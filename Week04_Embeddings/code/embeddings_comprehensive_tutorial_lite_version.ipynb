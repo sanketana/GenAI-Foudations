{
 "cells": [
  {
   "cell_type": "code",
   "execution_count": 3,
   "id": "0f81bc43-0af7-406d-8627-cab95e8bc036",
   "metadata": {},
   "outputs": [],
   "source": [
    "import numpy as np\n",
    "from sentence_transformers import SentenceTransformer"
   ]
  },
  {
   "cell_type": "code",
   "execution_count": null,
   "id": "a79501f3-de76-4f46-83f1-07d6bcbfa583",
   "metadata": {},
   "outputs": [],
   "source": [
    "model = S"
   ]
  }
 ],
 "metadata": {
  "kernelspec": {
   "display_name": "Python 3 (ipykernel)",
   "language": "python",
   "name": "python3"
  },
  "language_info": {
   "codemirror_mode": {
    "name": "ipython",
    "version": 3
   },
   "file_extension": ".py",
   "mimetype": "text/x-python",
   "name": "python",
   "nbconvert_exporter": "python",
   "pygments_lexer": "ipython3",
   "version": "3.13.5"
  }
 },
 "nbformat": 4,
 "nbformat_minor": 5
}
