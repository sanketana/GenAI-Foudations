{
 "cells": [
  {
   "cell_type": "code",
   "execution_count": null,
   "id": "31e775bb-eb96-476c-be79-731d2a5db842",
   "metadata": {},
   "outputs": [],
   "source": [
    "!pip install chromadb"
   ]
  },
  {
   "cell_type": "code",
   "execution_count": 66,
   "id": "3a2d7516-4c6c-42af-bb00-c6e3b09516b5",
   "metadata": {},
   "outputs": [],
   "source": [
    "import chromadb\n",
    "\n",
    "client = chromadb.Client()\n",
    "collection = client.create_collection(\"fruit\")"
   ]
  },
  {
   "cell_type": "code",
   "execution_count": 67,
   "id": "3f2dcebf-3b5d-4183-a208-e8c6acff3adb",
   "metadata": {},
   "outputs": [],
   "source": [
    "# Creating a collection by passing documents as input together with metadata\n",
    "# Chomadb uses \"Sentence transformers\" to create it own embeddings\n",
    "collection.add(\n",
    "    ids=[\"1\", \"2\", \"3\", \"4\", \"5\", \"6\", \"7\"],\n",
    "    documents=[\"apple\",\n",
    "        \"banana\",\n",
    "        \"pineapple\",\n",
    "        \"mango\",\n",
    "        \"dragonfruit\",\n",
    "        \"passionfruit\",\n",
    "        \"raspberry\"],\n",
    "    metadatas=[\n",
    "        { \"color\": \"red\", \"weight\": 180 },\n",
    "        { \"color\": \"yellow\", \"weight\": 120 },\n",
    "        { \"color\": \"brown\", \"weight\": 900 },\n",
    "        { \"color\": \"yellow\", \"weight\": 200 },\n",
    "        { \"color\": \"pink\", \"weight\": 600 },\n",
    "        { \"color\": \"purple\", \"weight\": 18 },\n",
    "        { \"color\": \"red\", \"weight\": 4 },        \n",
    "    ]\n",
    ")"
   ]
  },
  {
   "cell_type": "code",
   "execution_count": 68,
   "id": "785421b3-0313-4797-892d-55d8e76bd56e",
   "metadata": {},
   "outputs": [
    {
     "name": "stdout",
     "output_type": "stream",
     "text": [
      "{'ids': ['1', '2', '3', '4', '5', '6', '7'], 'embeddings': None, 'documents': ['apple', 'banana', 'pineapple', 'mango', 'dragonfruit', 'passionfruit', 'raspberry'], 'uris': None, 'included': ['metadatas', 'documents'], 'data': None, 'metadatas': [{'weight': 180, 'color': 'red'}, {'weight': 120, 'color': 'yellow'}, {'weight': 900, 'color': 'brown'}, {'weight': 200, 'color': 'yellow'}, {'weight': 600, 'color': 'pink'}, {'color': 'purple', 'weight': 18}, {'weight': 4, 'color': 'red'}]}\n"
     ]
    }
   ],
   "source": [
    "# Browsing the collection\n",
    "# Print everything\n",
    "all_data = collection.get()\n",
    "print(all_data)"
   ]
  },
  {
   "cell_type": "code",
   "execution_count": 69,
   "id": "9232b22d-a7a0-43a2-b405-41e936cc4f6f",
   "metadata": {},
   "outputs": [
    {
     "name": "stdout",
     "output_type": "stream",
     "text": [
      "{'data': None,\n",
      " 'documents': ['apple',\n",
      "               'banana',\n",
      "               'pineapple',\n",
      "               'mango',\n",
      "               'dragonfruit',\n",
      "               'passionfruit',\n",
      "               'raspberry'],\n",
      " 'embeddings': None,\n",
      " 'ids': ['1', '2', '3', '4', '5', '6', '7'],\n",
      " 'included': ['metadatas', 'documents'],\n",
      " 'metadatas': [{'color': 'red', 'weight': 180},\n",
      "               {'color': 'yellow', 'weight': 120},\n",
      "               {'color': 'brown', 'weight': 900},\n",
      "               {'color': 'yellow', 'weight': 200},\n",
      "               {'color': 'pink', 'weight': 600},\n",
      "               {'color': 'purple', 'weight': 18},\n",
      "               {'color': 'red', 'weight': 4}],\n",
      " 'uris': None}\n"
     ]
    }
   ],
   "source": [
    "from pprint import pprint\n",
    "pprint(all_data)"
   ]
  },
  {
   "cell_type": "code",
   "execution_count": 70,
   "id": "3ada1b19-344e-4937-b6d2-e3784da204d3",
   "metadata": {},
   "outputs": [],
   "source": [
    "# NOTE - embeddings : None, Older version of Chroma use to use default Sentence transformers\n",
    "# We will use the OpenAI embeddings to recreate the same collection\n",
    "\n",
    "# Clearing the collection\n",
    "client.delete_collection(\"fruit\")"
   ]
  },
  {
   "cell_type": "code",
   "execution_count": null,
   "id": "62992b5d-8fee-4394-a07a-8b3d114d57e1",
   "metadata": {},
   "outputs": [],
   "source": [
    "# Using OpenAI embedding function\n",
    "!pip install openai\n",
    "!pip install python-dotenv"
   ]
  },
  {
   "cell_type": "code",
   "execution_count": 71,
   "id": "da146324-42b4-4b1a-ace6-829f5d965dbb",
   "metadata": {},
   "outputs": [],
   "source": [
    "import openai\n",
    "from chromadb.utils.embedding_functions import OpenAIEmbeddingFunction\n",
    "from dotenv import load_dotenv"
   ]
  },
  {
   "cell_type": "code",
   "execution_count": 72,
   "id": "91b52382-1e42-4ddd-81bd-dac2b57d59a2",
   "metadata": {},
   "outputs": [],
   "source": [
    "load_dotenv()\n",
    "embedding_func = OpenAIEmbeddingFunction(\n",
    "    model_name=\"text-embedding-3-small\"  # or \"text-embedding-3-large\"\n",
    ")"
   ]
  },
  {
   "cell_type": "code",
   "execution_count": 73,
   "id": "b85a7da7-48a0-433f-a76e-c4363a917e98",
   "metadata": {},
   "outputs": [],
   "source": [
    "collection = client.create_collection(\"fruit\", embedding_function=embedding_func)"
   ]
  },
  {
   "cell_type": "code",
   "execution_count": 74,
   "id": "e5a4a2d5-305b-4dc5-8c34-7774b7f2a192",
   "metadata": {},
   "outputs": [],
   "source": [
    "collection.add(\n",
    "    ids=[\"1\", \"2\", \"3\", \"4\", \"5\", \"6\", \"7\"],\n",
    "    documents=[\"apple\",\n",
    "        \"banana\",\n",
    "        \"pineapple\",\n",
    "        \"mango\",\n",
    "        \"dragonfruit\",\n",
    "        \"passionfruit\",\n",
    "        \"raspberry\"],\n",
    "    metadatas=[\n",
    "        { \"color\": \"red\", \"weight\": 180 },\n",
    "        { \"color\": \"yellow\", \"weight\": 120 },\n",
    "        { \"color\": \"brown\", \"weight\": 900 },\n",
    "        { \"color\": \"yellow\", \"weight\": 200 },\n",
    "        { \"color\": \"pink\", \"weight\": 600 },\n",
    "        { \"color\": \"purple\", \"weight\": 18 },\n",
    "        { \"color\": \"red\", \"weight\": 4 },        \n",
    "    ]\n",
    ")"
   ]
  },
  {
   "cell_type": "code",
   "execution_count": 75,
   "id": "048357c0-f019-42ac-baed-bdb7371d6ed5",
   "metadata": {},
   "outputs": [
    {
     "name": "stdout",
     "output_type": "stream",
     "text": [
      "{'data': None,\n",
      " 'documents': ['apple',\n",
      "               'banana',\n",
      "               'pineapple',\n",
      "               'mango',\n",
      "               'dragonfruit',\n",
      "               'passionfruit',\n",
      "               'raspberry'],\n",
      " 'embeddings': None,\n",
      " 'ids': ['1', '2', '3', '4', '5', '6', '7'],\n",
      " 'included': ['metadatas', 'documents'],\n",
      " 'metadatas': [{'color': 'red', 'weight': 180},\n",
      "               {'color': 'yellow', 'weight': 120},\n",
      "               {'color': 'brown', 'weight': 900},\n",
      "               {'color': 'yellow', 'weight': 200},\n",
      "               {'color': 'pink', 'weight': 600},\n",
      "               {'color': 'purple', 'weight': 18},\n",
      "               {'color': 'red', 'weight': 4}],\n",
      " 'uris': None}\n"
     ]
    }
   ],
   "source": [
    "all_data = collection.get()\n",
    "pprint(all_data)"
   ]
  },
  {
   "cell_type": "code",
   "execution_count": null,
   "id": "d4ca2700-8042-4d0b-a9be-6e4cbefc7512",
   "metadata": {},
   "outputs": [],
   "source": [
    "# Gotcha moment!\n",
    "# Embeddings are not returned by default to save bandwidth\n",
    "# Do the following to show embeddings\n",
    "all_data = collection.get(include=[\"embeddings\", \"documents\", \"metadatas\"])\n",
    "pprint(all_data)"
   ]
  },
  {
   "cell_type": "code",
   "execution_count": 62,
   "id": "e1610fb1-93d9-4854-99bf-712723c9c592",
   "metadata": {},
   "outputs": [
    {
     "name": "stdout",
     "output_type": "stream",
     "text": [
      "{'data': None,\n",
      " 'distances': [[0.6120957732200623,\n",
      "                0.6204509735107422,\n",
      "                0.6238695979118347,\n",
      "                0.6701418161392212,\n",
      "                0.706540584564209,\n",
      "                0.7711185216903687,\n",
      "                0.7747601866722107]],\n",
      " 'documents': [['pineapple',\n",
      "                'mango',\n",
      "                'passionfruit',\n",
      "                'dragonfruit',\n",
      "                'banana',\n",
      "                'apple',\n",
      "                'raspberry']],\n",
      " 'embeddings': None,\n",
      " 'ids': [['3', '4', '6', '5', '2', '1', '7']],\n",
      " 'included': ['metadatas', 'documents', 'distances'],\n",
      " 'metadatas': [[{'color': 'brown', 'weight': 900},\n",
      "                {'color': 'yellow', 'weight': 200},\n",
      "                {'color': 'purple', 'weight': 18},\n",
      "                {'color': 'pink', 'weight': 600},\n",
      "                {'color': 'yellow', 'weight': 120},\n",
      "                {'color': 'red', 'weight': 180},\n",
      "                {'color': 'red', 'weight': 4}]],\n",
      " 'uris': None}\n"
     ]
    }
   ],
   "source": [
    "# Now that data is stored with embeddings, lets query and so semantic search!\n",
    "# Semantic Search\n",
    "tropical_fruits = collection.query(query_texts=[\"Tropical\"])\n",
    "pprint(tropical_fruits)"
   ]
  },
  {
   "cell_type": "code",
   "execution_count": 76,
   "id": "7f6ce799-a31f-46ac-8428-85bf562b95aa",
   "metadata": {},
   "outputs": [
    {
     "name": "stdout",
     "output_type": "stream",
     "text": [
      "['pineapple', 'mango', 'passionfruit', 'dragonfruit', 'banana', 'apple', 'raspberry']\n"
     ]
    }
   ],
   "source": [
    "# Print required data\n",
    "print(tropical_fruits[\"documents\"][0])"
   ]
  },
  {
   "cell_type": "code",
   "execution_count": 77,
   "id": "81eb7b6c-5fad-4e4b-bb46-96fd66f546e1",
   "metadata": {},
   "outputs": [],
   "source": [
    "# Metadata Filtering\n",
    "tropical_yellow = collection.query(query_texts=[\"Tropical\"], \n",
    "                                  where={\"$and\":[\n",
    "                                      {\"color\": \"yellow\"},\n",
    "                                      {\"weight\": {\"$gt\": 150}}\n",
    "                                  ]\n",
    "                                  })"
   ]
  },
  {
   "cell_type": "code",
   "execution_count": 78,
   "id": "5fafd631-3d9d-4ad4-b878-bdacb6b2de5b",
   "metadata": {},
   "outputs": [
    {
     "name": "stdout",
     "output_type": "stream",
     "text": [
      "['mango']\n"
     ]
    }
   ],
   "source": [
    "print(tropical_yellow[\"documents\"][0])"
   ]
  },
  {
   "cell_type": "code",
   "execution_count": 79,
   "id": "25aadeed-dc0e-4af2-90bc-606ff336a3f6",
   "metadata": {},
   "outputs": [
    {
     "name": "stdout",
     "output_type": "stream",
     "text": [
      "['dragonfruit', 'passionfruit']\n"
     ]
    }
   ],
   "source": [
    "# Full Text Search\n",
    "contains_fruit = collection.get(\n",
    "    where_document={\"$contains\": \"fruit\"}\n",
    ")\n",
    "print(contains_fruit[\"documents\"])"
   ]
  },
  {
   "cell_type": "code",
   "execution_count": null,
   "id": "b3505479-e6aa-41d1-8718-908746b48dbf",
   "metadata": {},
   "outputs": [],
   "source": [
    "# Types of Storage\n",
    "# Ephemeral Client - What we did so far, NOT persisted\n",
    "# Persistent Client - Saved to Disk\n",
    "# Cloud Client - Saved to Cloud"
   ]
  },
  {
   "cell_type": "code",
   "execution_count": 80,
   "id": "830fbc5c-82d7-496c-98f7-0abd0651e5f0",
   "metadata": {},
   "outputs": [],
   "source": [
    "# We will recreate the Fruits database with persistent client\n",
    "persistent_directory = \"db\"\n",
    "persistent_client = chromadb.PersistentClient(path=persistent_directory)"
   ]
  },
  {
   "cell_type": "code",
   "execution_count": 81,
   "id": "27b731e7-ccde-46fb-86e7-cf210dd158e1",
   "metadata": {},
   "outputs": [],
   "source": [
    "persistent_client.delete_collection(\"fruit\")"
   ]
  },
  {
   "cell_type": "code",
   "execution_count": 82,
   "id": "7bee5903-9a7a-485d-8d4a-93c1747de703",
   "metadata": {},
   "outputs": [],
   "source": [
    "persistent_collection = persistent_client.create_collection(\"fruit\", embedding_function=embedding_func)"
   ]
  },
  {
   "cell_type": "code",
   "execution_count": 83,
   "id": "d02353cb-3908-4ab6-aa1a-bc50579ac9a7",
   "metadata": {},
   "outputs": [],
   "source": [
    "persistent_collection.add(\n",
    "    ids=[\"1\", \"2\", \"3\", \"4\", \"5\", \"6\", \"7\"],\n",
    "    documents=[\"apple\",\n",
    "        \"banana\",\n",
    "        \"pineapple\",\n",
    "        \"mango\",\n",
    "        \"dragonfruit\",\n",
    "        \"passionfruit\",\n",
    "        \"raspberry\"],\n",
    "    metadatas=[\n",
    "        { \"color\": \"red\", \"weight\": 180 },\n",
    "        { \"color\": \"yellow\", \"weight\": 120 },\n",
    "        { \"color\": \"brown\", \"weight\": 900 },\n",
    "        { \"color\": \"yellow\", \"weight\": 200 },\n",
    "        { \"color\": \"pink\", \"weight\": 600 },\n",
    "        { \"color\": \"purple\", \"weight\": 18 },\n",
    "        { \"color\": \"red\", \"weight\": 4 },        \n",
    "    ]\n",
    ")"
   ]
  },
  {
   "cell_type": "code",
   "execution_count": null,
   "id": "7b573e20-a091-4097-849d-1519ee2edfd5",
   "metadata": {},
   "outputs": [],
   "source": [
    "!ls -al"
   ]
  },
  {
   "cell_type": "code",
   "execution_count": null,
   "id": "a9824cf0-b086-4c2f-a9b2-81d6b76bd50d",
   "metadata": {},
   "outputs": [],
   "source": [
    "!tree"
   ]
  },
  {
   "cell_type": "code",
   "execution_count": null,
   "id": "d1a14641-4019-4168-abc7-f5b0a42b1b31",
   "metadata": {},
   "outputs": [],
   "source": []
  }
 ],
 "metadata": {
  "kernelspec": {
   "display_name": "Python 3 (ipykernel)",
   "language": "python",
   "name": "python3"
  },
  "language_info": {
   "codemirror_mode": {
    "name": "ipython",
    "version": 3
   },
   "file_extension": ".py",
   "mimetype": "text/x-python",
   "name": "python",
   "nbconvert_exporter": "python",
   "pygments_lexer": "ipython3",
   "version": "3.13.5"
  }
 },
 "nbformat": 4,
 "nbformat_minor": 5
}
