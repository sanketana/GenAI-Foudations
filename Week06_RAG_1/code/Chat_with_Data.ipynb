{
 "cells": [
  {
   "cell_type": "markdown",
   "id": "03266fea-f770-4c64-9d85-f8a6db727b41",
   "metadata": {},
   "source": [
    "![RAG Architecture](RAG_Architecture.png)"
   ]
  },
  {
   "cell_type": "markdown",
   "id": "ad4b801e-8c08-43a9-8234-b3bd13aa8e4e",
   "metadata": {},
   "source": [
    "### RAG Components\n",
    "1. Document Loading\n",
    "2. Document Splitting\n",
    "3. Vectorstores and Embedding\n",
    "4. Retrieval\n",
    "5. Question Answering"
   ]
  },
  {
   "cell_type": "markdown",
   "id": "e45c521c-6c72-4705-9e89-3cf472e0a732",
   "metadata": {},
   "source": [
    "## 1) Loaders\n",
    "In LangChain, a document loader is a utility that helps you load data from different sources into a standardized document format so that it can be processed further (cleaned, split, embedded, retrieved, etc.).\n",
    "\n",
    "#### Examples:\n",
    "1. Text Loader\n",
    "2. CSV Loader\n",
    "3. PDF Loader\n",
    "4. YouTube Loader\n",
    "5. WebBase Loader"
   ]
  },
  {
   "cell_type": "code",
   "execution_count": null,
   "id": "afb8aaf4-f562-4136-b898-988d5d3d7010",
   "metadata": {},
   "outputs": [],
   "source": [
    "# Install dependencies\n",
    "!pip install langchain\n",
    "!pip install langchain-community\n",
    "!pip install pypdf"
   ]
  },
  {
   "cell_type": "markdown",
   "id": "eb0248fd-35cf-421e-8a94-e265221ee3c0",
   "metadata": {},
   "source": [
    "#### PDF Loader"
   ]
  },
  {
   "cell_type": "code",
   "execution_count": 7,
   "id": "36b9dbc4-5eeb-49ab-9655-eb881fb35952",
   "metadata": {},
   "outputs": [],
   "source": [
    "from langchain_community.document_loaders import PyPDFLoader"
   ]
  },
  {
   "cell_type": "code",
   "execution_count": 11,
   "id": "84e32979-26a1-4497-9f0b-2755dd4f2889",
   "metadata": {},
   "outputs": [],
   "source": [
    "loader = PyPDFLoader(\"MachineLearning-Lecture01.pdf\")\n",
    "pages = loader.load()"
   ]
  },
  {
   "cell_type": "code",
   "execution_count": 12,
   "id": "0a0c4a09-6d70-45cf-a3ed-f8d21c903e82",
   "metadata": {},
   "outputs": [
    {
     "name": "stdout",
     "output_type": "stream",
     "text": [
      "<class 'list'>\n"
     ]
    }
   ],
   "source": [
    "print(type(pages))"
   ]
  },
  {
   "cell_type": "code",
   "execution_count": 13,
   "id": "ffec384e-e1e3-4ddd-aaf2-827a38ad991f",
   "metadata": {},
   "outputs": [
    {
     "name": "stdout",
     "output_type": "stream",
     "text": [
      "<class 'langchain_core.documents.base.Document'>\n"
     ]
    }
   ],
   "source": [
    "print(type(pages[1]))"
   ]
  },
  {
   "cell_type": "code",
   "execution_count": 14,
   "id": "347f0008-280d-4ff2-9b2c-b83492a5735e",
   "metadata": {},
   "outputs": [
    {
     "name": "stdout",
     "output_type": "stream",
     "text": [
      "page_content='many biologers are there here? Wow, just a few, not many. I'm surprised. Anyone from \n",
      "statistics? Okay, a few. So where are the rest of you from?  \n",
      "Student : iCME.  \n",
      "Instructor (Andrew Ng) : Say again?  \n",
      "Student : iCME.  \n",
      "Instructor (Andrew Ng) : iCME. Cool.  \n",
      "Student : [Inaudible].  \n",
      "Instructor (Andrew Ng) : Civi and what else?  \n",
      "Student : [Inaudible]  \n",
      "Instructor (Andrew Ng) : Synthesis, [inaudible] systems. Yeah, cool.  \n",
      "Student : Chemi.  \n",
      "Instructor (Andrew Ng) : Chemi. Cool.  \n",
      "Student : [Inaudible].  \n",
      "Instructor (Andrew Ng) : Aero/astro. Yes, right. Yeah, okay, cool. Anyone else?  \n",
      "Student : [Inaudible].  \n",
      "Instructor (Andrew Ng) : Pardon? MSNE. All right. Cool. Yeah.  \n",
      "Student : [Inaudible].  \n",
      "Instructor (Andrew Ng) : Pardon?  \n",
      "Student : [Inaudible].  \n",
      "Instructor (Andrew Ng) : Endo —  \n",
      "Student : [Inaudible].  \n",
      "Instructor (Andrew Ng) : Oh, I see, industry. Okay. Cool. Great, great. So as you can \n",
      "tell from a cross-section of this class, I think we're a very diverse audience in this room, \n",
      "and that's one of the things that makes this class fun to teach and fun to be in, I think.' metadata={'producer': 'Acrobat Distiller 8.1.0 (Windows)', 'creator': 'PScript5.dll Version 5.2.2', 'creationdate': '2008-07-11T11:25:23-07:00', 'author': '', 'moddate': '2008-07-11T11:25:23-07:00', 'title': '', 'source': 'MachineLearning-Lecture01.pdf', 'total_pages': 22, 'page': 1, 'page_label': '2'}\n"
     ]
    }
   ],
   "source": [
    "print(pages[1])"
   ]
  },
  {
   "cell_type": "code",
   "execution_count": 23,
   "id": "93d41972-eeac-4b70-92f1-2ec9689310a0",
   "metadata": {},
   "outputs": [
    {
     "name": "stdout",
     "output_type": "stream",
     "text": [
      "{'producer': 'Acrobat Distiller 8.1.0 (Windows)', 'creator': 'PScript5.dll Version 5.2.2', 'creationdate': '2008-07-11T11:25:23-07:00', 'author': '', 'moddate': '2008-07-11T11:25:23-07:00', 'title': '', 'source': 'MachineLearning-Lecture01.pdf', 'total_pages': 22, 'page': 1, 'page_label': '2'}\n"
     ]
    }
   ],
   "source": [
    "print(pages[1].metadata)"
   ]
  },
  {
   "cell_type": "markdown",
   "id": "b850d9de-e53f-47a4-a693-ab3f6eb37c55",
   "metadata": {},
   "source": [
    "#### Youtube Loader"
   ]
  },
  {
   "cell_type": "code",
   "execution_count": null,
   "id": "bbdcf919-2c9b-497d-856a-2c196fe51e74",
   "metadata": {},
   "outputs": [],
   "source": [
    "!pip install langchain_yt_dlp"
   ]
  },
  {
   "cell_type": "code",
   "execution_count": 53,
   "id": "427fd13c-423c-49c5-b76a-1a202da698f7",
   "metadata": {},
   "outputs": [],
   "source": [
    "from langchain_yt_dlp.youtube_loader import YoutubeLoaderDL\n",
    "\n",
    "# Basic transcript loading\n",
    "loader = YoutubeLoaderDL.from_youtube_url(\n",
    "    \"https://www.youtube.com/watch?v=dQw4w9WgXcQ\", add_video_info=True\n",
    ")"
   ]
  },
  {
   "cell_type": "code",
   "execution_count": 54,
   "id": "ad293067-11ec-4fbc-a995-3f31783b5283",
   "metadata": {},
   "outputs": [],
   "source": [
    "documents = loader.load()"
   ]
  },
  {
   "cell_type": "code",
   "execution_count": 55,
   "id": "2743a8ca-dfb5-4115-bda6-00a0281a4a73",
   "metadata": {},
   "outputs": [
    {
     "name": "stdout",
     "output_type": "stream",
     "text": [
      "[Document(metadata={'source': 'dQw4w9WgXcQ', 'title': 'Rick Astley - Never Gonna Give You Up (Official Video) (4K Remaster)', 'description': 'The official video for “Never Gonna Give You Up” by Rick Astley. \\n\\nNever: The Autobiography 📚 OUT NOW! \\nFollow this link to get your copy and listen to Rick’s ‘Never’ playlist ❤️ #RickAstleyNever\\nhttps://linktr.ee/rickastleynever\\n\\n“Never Gonna Give You Up” was a global smash on its release in July 1987, topping the charts in 25 countries including Rick’s native UK and the US Billboard Hot 100.  It also won the Brit Award for Best single in 1988. Stock Aitken and Waterman wrote and produced the track which was the lead-off single and lead track from Rick’s debut LP “Whenever You Need Somebody”.  The album was itself a UK number one and would go on to sell over 15 million copies worldwide.\\n\\nThe legendary video was directed by Simon West – who later went on to make Hollywood blockbusters such as Con Air, Lara Croft – Tomb Raider and The Expendables 2.  The video passed the 1bn YouTube views milestone on 28 July 2021.\\n\\nSubscribe to the official Rick Astley YouTube channel: https://RickAstley.lnk.to/YTSubID\\n\\nFollow Rick Astley:\\nFacebook: https://RickAstley.lnk.to/FBFollowID \\nTwitter: https://RickAstley.lnk.to/TwitterID \\nInstagram: https://RickAstley.lnk.to/InstagramID \\nWebsite: https://RickAstley.lnk.to/storeID \\nTikTok: https://RickAstley.lnk.to/TikTokID\\n\\nListen to Rick Astley:\\nSpotify: https://RickAstley.lnk.to/SpotifyID \\nApple Music: https://RickAstley.lnk.to/AppleMusicID \\nAmazon Music: https://RickAstley.lnk.to/AmazonMusicID \\nDeezer: https://RickAstley.lnk.to/DeezerID \\n\\nLyrics:\\nWe’re no strangers to love\\nYou know the rules and so do I\\nA full commitment’s what I’m thinking of\\nYou wouldn’t get this from any other guy\\n\\nI just wanna tell you how I’m feeling\\nGotta make you understand\\n\\nNever gonna give you up\\nNever gonna let you down\\nNever gonna run around and desert you\\nNever gonna make you cry\\nNever gonna say goodbye\\nNever gonna tell a lie and hurt you\\n\\nWe’ve known each other for so long\\nYour heart’s been aching but you’re too shy to say it\\nInside we both know what’s been going on\\nWe know the game and we’re gonna play it\\n\\nAnd if you ask me how I’m feeling\\nDon’t tell me you’re too blind to see\\n\\nNever gonna give you up\\nNever gonna let you down\\nNever gonna run around and desert you\\nNever gonna make you cry\\nNever gonna say goodbye\\nNever gonna tell a lie and hurt you\\n\\n#RickAstley #NeverGonnaGiveYouUp #WheneverYouNeedSomebody #OfficialMusicVideo', 'view_count': 1695234085, 'publish_date': '2009-10-25', 'length': 213, 'author': 'Rick Astley', 'channel_id': 'UCuAXFkgsw1L7xaCfnd5JJOw', 'webpage_url': 'https://www.youtube.com/watch?v=dQw4w9WgXcQ'}, page_content=' ')]\n"
     ]
    }
   ],
   "source": [
    "print(documents)"
   ]
  },
  {
   "cell_type": "markdown",
   "id": "965d904a-d987-4936-a87b-96620fbd7373",
   "metadata": {},
   "source": [
    "#### WebBase Loader\n"
   ]
  },
  {
   "cell_type": "code",
   "execution_count": 56,
   "id": "ba9dd5ed-9132-4b69-acfe-e2e7c6f48ca9",
   "metadata": {},
   "outputs": [
    {
     "name": "stderr",
     "output_type": "stream",
     "text": [
      "USER_AGENT environment variable not set, consider setting it to identify your requests.\n"
     ]
    }
   ],
   "source": [
    "from langchain.document_loaders import WebBaseLoader\n",
    "loader = WebBaseLoader(\"https://github.com/sanketana/GenAI-Foudations/blob/main/Week06_RAG_1/notes.md\")\n",
    "docs = loader.load()"
   ]
  },
  {
   "cell_type": "code",
   "execution_count": null,
   "id": "7873953e-d1b7-428c-9b59-8ff524e62a9a",
   "metadata": {},
   "outputs": [],
   "source": [
    "print(docs[0])"
   ]
  },
  {
   "cell_type": "markdown",
   "id": "e86cf56e-8c5d-4953-bec7-35f3e2b61461",
   "metadata": {},
   "source": [
    "## 2) Splitters\n",
    "A document splitter is a utility that takes a large document (or multiple documents) and breaks it into smaller, more manageable chunks of text.\n",
    "\n",
    "#### Types of Splitters in Langchain\n",
    "1. CharacterTextSplitter\n",
    "2. RecursiveCharacterTextSplitter\n",
    "3. TokenTextSplitter\n",
    "4. Markdown / Code Splitters"
   ]
  },
  {
   "cell_type": "markdown",
   "id": "e5cbde72-1767-4e4b-8c16-a4812de9800d",
   "metadata": {},
   "source": [
    "![Example Splitter](Example_Splitter.png)"
   ]
  },
  {
   "cell_type": "markdown",
   "id": "ff8c19ed-b3d7-4765-a428-797b04916038",
   "metadata": {},
   "source": [
    "| Feature                  | CharacterTextSplitter                        | RecursiveCharacterTextSplitter                          |\n",
    "|---------------------------|-----------------------------------------------|---------------------------------------------------------|\n",
    "| Splitting method          | Fixed-size, raw character cuts               | Tries hierarchical separators (para → sentence → word → char) |\n",
    "| Preserves semantic meaning| ❌ Often cuts in middle of words/sentences    | ✅ Keeps chunks aligned to natural text boundaries       |\n",
    "| Default separators        | [\"\\n\\n\"]                       | `[\"\\n\\n\", \"\\n\", \" \", \"\"]` (paragraph, line, space, char)|\n",
    "| Chunk size handling       | Strict cutoff at `chunk_size`                | Tries largest separator where chunk ≤ `chunk_size`      |\n",
    "| Chunk overlap             | ✅ Supported                                 | ✅ Supported                                            |\n",
    "| Output consistency        | More predictable (always equal-sized chunks) | More variable (chunks may differ in size depending on separators) |\n",
    "| Performance               | Faster, simpler                             | Slightly slower due to recursive splitting logic        |\n",
    "| Readability of chunks     | Poor (fragments of sentences)                 | Better (complete sentences/paragraphs where possible)   |\n",
    "| Best use case             | Very short/simple text; testing              | Long docs, PDFs, transcripts, RAG pipelines             |"
   ]
  },
  {
   "cell_type": "code",
   "execution_count": 1,
   "id": "ee149179-a12e-4768-8953-1f3989d4b828",
   "metadata": {},
   "outputs": [],
   "source": [
    "from langchain.text_splitter import RecursiveCharacterTextSplitter, CharacterTextSplitter"
   ]
  },
  {
   "cell_type": "code",
   "execution_count": 61,
   "id": "7d7d19af-5a03-433f-810b-7579f5f6361b",
   "metadata": {},
   "outputs": [],
   "source": [
    "# Example text\n",
    "text = \"\"\"Artificial Intelligence is changing the world. It is being used in healthcare, education, and entertainment. \n",
    "\n",
    "However, AI also raises ethical concerns. Bias, privacy, and misuse are important issues.\"\"\""
   ]
  },
  {
   "cell_type": "code",
   "execution_count": 62,
   "id": "06ca606a-1a82-42b7-81e8-7ebfda3507a4",
   "metadata": {},
   "outputs": [],
   "source": [
    "chunk_size =50\n",
    "chunk_overlap = 10"
   ]
  },
  {
   "cell_type": "code",
   "execution_count": 63,
   "id": "e581f70e-5517-42a6-a9ab-0230c5925856",
   "metadata": {},
   "outputs": [],
   "source": [
    "r_splitter = RecursiveCharacterTextSplitter(\n",
    "    chunk_size=chunk_size,\n",
    "    chunk_overlap=chunk_overlap\n",
    ")\n",
    "c_splitter = CharacterTextSplitter(\n",
    "    chunk_size=chunk_size,\n",
    "    chunk_overlap=chunk_overlap\n",
    ")"
   ]
  },
  {
   "cell_type": "code",
   "execution_count": 64,
   "id": "8281d76f-1331-4dec-a4ee-00e218e821e4",
   "metadata": {},
   "outputs": [
    {
     "name": "stderr",
     "output_type": "stream",
     "text": [
      "Created a chunk of size 109, which is longer than the specified 50\n"
     ]
    },
    {
     "name": "stdout",
     "output_type": "stream",
     "text": [
      "['Artificial Intelligence is changing the world. It is being used in healthcare, education, and entertainment.', 'However, AI also raises ethical concerns. Bias, privacy, and misuse are important issues.']\n"
     ]
    }
   ],
   "source": [
    "char_chunks = c_splitter.split_text(text)\n",
    "print(char_chunks)"
   ]
  },
  {
   "cell_type": "code",
   "execution_count": 65,
   "id": "370e3821-400e-4c52-8cd8-d8bda1730b82",
   "metadata": {},
   "outputs": [
    {
     "name": "stdout",
     "output_type": "stream",
     "text": [
      "Artificial Intelligence is changing the world. It is being used in healthcare, education, and entertainment.\n",
      "However, AI also raises ethical concerns. Bias, privacy, and misuse are important issues.\n"
     ]
    }
   ],
   "source": [
    "for chunk in char_chunks:\n",
    "    print(chunk)"
   ]
  },
  {
   "cell_type": "code",
   "execution_count": 66,
   "id": "3294c600-76c3-45d5-b165-c7be981e7295",
   "metadata": {},
   "outputs": [
    {
     "name": "stdout",
     "output_type": "stream",
     "text": [
      "['Artificial Intelligence is changing the world. It', 'world. It is being used in healthcare, education,', 'and entertainment.', 'However, AI also raises ethical concerns. Bias,', 'Bias, privacy, and misuse are important issues.']\n"
     ]
    }
   ],
   "source": [
    "rec_chunks = r_splitter.split_text(text)\n",
    "print(rec_chunks)"
   ]
  },
  {
   "cell_type": "code",
   "execution_count": 67,
   "id": "295ddab3-dec7-4d6e-91c7-9f2dc49311a6",
   "metadata": {},
   "outputs": [
    {
     "name": "stdout",
     "output_type": "stream",
     "text": [
      "Artificial Intelligence is changing the world. It\n",
      "world. It is being used in healthcare, education,\n",
      "and entertainment.\n",
      "However, AI also raises ethical concerns. Bias,\n",
      "Bias, privacy, and misuse are important issues.\n"
     ]
    }
   ],
   "source": [
    "for chunk in rec_chunks:\n",
    "    print(chunk)"
   ]
  },
  {
   "cell_type": "markdown",
   "id": "def4b137-4463-4a68-94d7-7eba9ebf3807",
   "metadata": {},
   "source": [
    "## 3) Vectorstores and Embeddings"
   ]
  },
  {
   "cell_type": "markdown",
   "id": "1f13bf92-49f1-4a20-afe4-021bbbce17b1",
   "metadata": {},
   "source": [
    "#### Combining loading and splitting"
   ]
  },
  {
   "cell_type": "code",
   "execution_count": null,
   "id": "e2f05fd2-6d82-4706-ab2f-d9106257e214",
   "metadata": {},
   "outputs": [],
   "source": [
    "from langchain_community.document_loaders import PyPDFLoader\n",
    "loader = PyPDFLoader(\"MachineLearning-Lecture01.pdf\")\n",
    "docs = loader.load()\n",
    "print(docs)"
   ]
  },
  {
   "cell_type": "code",
   "execution_count": 72,
   "id": "e20a8a3b-e667-422e-ae50-b6ef1321de03",
   "metadata": {},
   "outputs": [
    {
     "name": "stdout",
     "output_type": "stream",
     "text": [
      "{'producer': 'Acrobat Distiller 8.1.0 (Windows)',\n",
      " 'creator': 'PScript5.dll Version 5.2.2',\n",
      " 'creationdate': '2008-07-11T11:25:23-07:00',\n",
      " 'author': '',\n",
      " 'moddate': '2008-07-11T11:25:23-07:00',\n",
      " 'title': '',\n",
      " 'source': 'MachineLearning-Lecture01.pdf',\n",
      " 'total_pages': 22,\n",
      " 'page': 0,\n",
      " 'page_label': '1'}\n"
     ]
    }
   ],
   "source": [
    "import pprint\n",
    "pprint.pp(docs[0].metadata)"
   ]
  },
  {
   "cell_type": "code",
   "execution_count": 73,
   "id": "fef243e2-2f05-46a3-bc4f-9a6d3948b97e",
   "metadata": {},
   "outputs": [],
   "source": [
    "# Bulk Loading PDF\n",
    "loaders = [\n",
    "    PyPDFLoader(\"MachineLearning-Lecture01.pdf\"),\n",
    "    PyPDFLoader(\"MachineLearning-Lecture01.pdf\"),\n",
    "    PyPDFLoader(\"MachineLearning-Lecture02.pdf\"),    \n",
    "    PyPDFLoader(\"MachineLearning-Lecture03.pdf\"),    \n",
    "]\n",
    "docs = []\n",
    "for loader in loaders:\n",
    "    docs.extend(loader.load())"
   ]
  },
  {
   "cell_type": "code",
   "execution_count": 74,
   "id": "f5d1e2f9-cfda-43df-8e59-d03bd928b54f",
   "metadata": {},
   "outputs": [],
   "source": [
    "# Split\n",
    "from langchain.text_splitter import RecursiveCharacterTextSplitter\n",
    "text_splitter = RecursiveCharacterTextSplitter(\n",
    "    chunk_size = 1500,\n",
    "    chunk_overlap = 150\n",
    ")"
   ]
  },
  {
   "cell_type": "code",
   "execution_count": 75,
   "id": "2d65be5f-ef62-41d9-93e8-6658f4eb66fc",
   "metadata": {},
   "outputs": [],
   "source": [
    "splits = text_splitter.split_documents(docs)"
   ]
  },
  {
   "cell_type": "code",
   "execution_count": 76,
   "id": "f5bba6c7-2177-4053-97ca-d779acd8c52f",
   "metadata": {},
   "outputs": [
    {
     "name": "stdout",
     "output_type": "stream",
     "text": [
      "208\n"
     ]
    }
   ],
   "source": [
    "print(len(splits))"
   ]
  },
  {
   "cell_type": "markdown",
   "id": "f701e8b5-d20d-48c1-a81c-50258fd81cc1",
   "metadata": {},
   "source": [
    "### Embeddings"
   ]
  },
  {
   "cell_type": "code",
   "execution_count": null,
   "id": "f54d89a8-2c51-431f-b481-907a424b6b78",
   "metadata": {},
   "outputs": [],
   "source": [
    "!pip install langchain-openai\n",
    "!pip install python-dotenv"
   ]
  },
  {
   "cell_type": "code",
   "execution_count": 133,
   "id": "da0f59b1-53c2-4a6d-b879-69f6e15b51c0",
   "metadata": {},
   "outputs": [
    {
     "name": "stdout",
     "output_type": "stream",
     "text": [
      "API Key: sk-pr*****\n"
     ]
    }
   ],
   "source": [
    "from langchain_openai import OpenAIEmbeddings\n",
    "from dotenv import load_dotenv\n",
    "import os\n",
    "\n",
    "load_dotenv()\n",
    "\n",
    "# Access your API key\n",
    "api_key = os.getenv(\"OPENAI_API_KEY\")\n",
    "print(\"API Key:\", api_key[:5] + \"*****\")  # just to verify it’s loaded"
   ]
  },
  {
   "cell_type": "code",
   "execution_count": 100,
   "id": "78a2ab6b-98af-4ce7-a0db-c0458c58f245",
   "metadata": {},
   "outputs": [],
   "source": [
    "embedding = OpenAIEmbeddings(\n",
    "    model=\"text-embedding-3-small\"\n",
    ")\n",
    "# Can also explicitly pass key as openai_api_key=api_key"
   ]
  },
  {
   "cell_type": "code",
   "execution_count": 87,
   "id": "8155fb09-4ee0-4476-b894-71709c0a9df9",
   "metadata": {},
   "outputs": [],
   "source": [
    "coffee1 = \"I enjoy drinking coffee in the morning.\"\n",
    "coffee2 = \"I love having a cup of filter coffee when I wake up\"\n",
    "market = \"The stock market had a big crash yesterday.\"\n",
    "mug = \"I crashed the stock of my coffee mug yesterday.\""
   ]
  },
  {
   "cell_type": "code",
   "execution_count": 101,
   "id": "adc1ea09-0d23-415a-b3cb-fd1417195a38",
   "metadata": {},
   "outputs": [],
   "source": [
    "coffee1_embedding = embedding.embed_query(coffee1)\n",
    "coffee2_embedding = embedding.embed_query(coffee2)\n",
    "market_embedding = embedding.embed_query(market)\n",
    "mug_embedding = embedding.embed_query(mug)"
   ]
  },
  {
   "cell_type": "code",
   "execution_count": 90,
   "id": "a5d129d1-19ab-4a41-80d6-6a296314caef",
   "metadata": {},
   "outputs": [],
   "source": [
    "import numpy as np"
   ]
  },
  {
   "cell_type": "code",
   "execution_count": 94,
   "id": "0f4a0652-c819-4ec8-b94f-7f3e7b35d48a",
   "metadata": {},
   "outputs": [
    {
     "data": {
      "text/plain": [
       "np.float64(0.6272893868874276)"
      ]
     },
     "execution_count": 94,
     "metadata": {},
     "output_type": "execute_result"
    }
   ],
   "source": [
    "np.dot(np.array(coffee1_embedding), np.array(coffee2_embedding))"
   ]
  },
  {
   "cell_type": "code",
   "execution_count": 95,
   "id": "f570a395-bb0b-486f-b5b5-806801c21497",
   "metadata": {},
   "outputs": [
    {
     "data": {
      "text/plain": [
       "np.float64(0.07100796107510074)"
      ]
     },
     "execution_count": 95,
     "metadata": {},
     "output_type": "execute_result"
    }
   ],
   "source": [
    "np.dot(np.array(coffee1_embedding), np.array(market_embedding))"
   ]
  },
  {
   "cell_type": "markdown",
   "id": "fad38d47-cd9e-4c9c-bbe0-8603c6c5225a",
   "metadata": {},
   "source": [
    "### Vectorstores"
   ]
  },
  {
   "cell_type": "code",
   "execution_count": null,
   "id": "3050ae3d-f672-479c-9dbe-1df1d0ed7fab",
   "metadata": {},
   "outputs": [],
   "source": [
    "!pip install chromadb"
   ]
  },
  {
   "cell_type": "code",
   "execution_count": 98,
   "id": "32ad48c7-8d76-4db1-99cb-7a4973b184e4",
   "metadata": {},
   "outputs": [],
   "source": [
    "from langchain.vectorstores import Chroma"
   ]
  },
  {
   "cell_type": "code",
   "execution_count": 99,
   "id": "891c5846-9d52-4911-afed-ff4002b23605",
   "metadata": {},
   "outputs": [],
   "source": [
    "persist_directory = 'docs/chroma'\n",
    "!rm -rf ./docs/chroma"
   ]
  },
  {
   "cell_type": "code",
   "execution_count": 102,
   "id": "7c2d3ae0-8632-4215-909c-853e94690432",
   "metadata": {},
   "outputs": [],
   "source": [
    "vectordb = Chroma.from_documents(\n",
    "    documents=splits,\n",
    "    embedding=embedding,\n",
    "    persist_directory=persist_directory\n",
    ")"
   ]
  },
  {
   "cell_type": "code",
   "execution_count": 103,
   "id": "c503c5fd-03b0-4687-99de-21721204cec0",
   "metadata": {},
   "outputs": [
    {
     "name": "stdout",
     "output_type": "stream",
     "text": [
      "208\n"
     ]
    }
   ],
   "source": [
    "print(vectordb._collection.count())"
   ]
  },
  {
   "cell_type": "markdown",
   "id": "b148ccc6-04a2-4969-86c1-53e7841f7a26",
   "metadata": {},
   "source": [
    "### Similarity Search"
   ]
  },
  {
   "cell_type": "code",
   "execution_count": 104,
   "id": "48124048-b48d-4299-aa94-64269aadad5b",
   "metadata": {},
   "outputs": [],
   "source": [
    "question = \"is there an email i can ask for help\"\n",
    "docs = vectordb.similarity_search(question, k=3)"
   ]
  },
  {
   "cell_type": "code",
   "execution_count": 105,
   "id": "66ce59a2-1924-45cd-b72b-058f9c79ea00",
   "metadata": {},
   "outputs": [
    {
     "data": {
      "text/plain": [
       "3"
      ]
     },
     "execution_count": 105,
     "metadata": {},
     "output_type": "execute_result"
    }
   ],
   "source": [
    "len(docs)"
   ]
  },
  {
   "cell_type": "code",
   "execution_count": 106,
   "id": "a67a165e-a146-4cb9-9cf1-4b3a5d4c8e59",
   "metadata": {},
   "outputs": [
    {
     "data": {
      "text/plain": [
       "\"cs229-qa@cs.stanford.edu. This goes to an account that's read by all the TAs and me. So \\nrather than sending us email individually, if you send email to this account, it will \\nactually let us get back to you maximally quickly with answers to your questions.  \\nIf you're asking questions about homework problems, please say in the subject line which \\nassignment and which question the email refers to, since that will also help us to route \\nyour question to the appropriate TA or to me appropriately and get the response back to \\nyou quickly.  \\nLet's see. Skipping ahead — let's see — for homework, one midterm, one open and term \\nproject. Notice on the honor code. So one thing that I think will help you to succeed and \\ndo well in this class and even help you to enjoy this class more is if you form a study \\ngroup.  \\nSo start looking around where you're sitting now or at the end of class today, mingle a \\nlittle bit and get to know your classmates. I strongly encourage you to form study groups \\nand sort of have a group of people to study with and have a group of your fellow students \\nto talk over these concepts with. You can also post on the class newsgroup if you want to \\nuse that to try to form a study group.  \\nBut some of the problems sets in this class are reasonably difficult. People that have \\ntaken the class before may tell you they were very difficult. And just I bet it would be \\nmore fun for you, and you'd probably have a better learning experience if you form a\""
      ]
     },
     "execution_count": 106,
     "metadata": {},
     "output_type": "execute_result"
    }
   ],
   "source": [
    "docs[0].page_content"
   ]
  },
  {
   "cell_type": "markdown",
   "id": "f78bf20f-2f0e-418d-8158-ee6aadf12251",
   "metadata": {},
   "source": [
    "### Failure Cases - Duplicate Chunks in Search Results"
   ]
  },
  {
   "cell_type": "code",
   "execution_count": 119,
   "id": "1a8210f9-bba3-4f6e-bc3c-1adf5d68f850",
   "metadata": {},
   "outputs": [
    {
     "data": {
      "text/plain": [
       "Document(metadata={'page': 8, 'total_pages': 22, 'producer': 'Acrobat Distiller 8.1.0 (Windows)', 'title': '', 'moddate': '2008-07-11T11:25:23-07:00', 'creationdate': '2008-07-11T11:25:23-07:00', 'author': '', 'creator': 'PScript5.dll Version 5.2.2', 'page_label': '9', 'source': 'MachineLearning-Lecture01.pdf'}, page_content='those homeworks will be done in either MATLAB or in Octave, which is sort of — I \\nknow some people call it a free version of MATLAB, which it sort of is, sort of isn\\'t.  \\nSo I guess for those of you that haven\\'t seen MATLAB before, and I know most of you \\nhave, MATLAB is I guess part of the programming language that makes it very easy to \\nwrite codes using matrices, to write code for numerical routines, to move data around, to \\nplot data. And it\\'s sort of an extremely easy to learn tool to use for implementing a lot of \\nlearning algorithms.  \\nAnd in case some of you want to work on your own home computer or something if you \\ndon\\'t have a MATLAB license, for the purposes of this class, there\\'s also — [inaudible] \\nwrite that down [inaudible] MATLAB — there\\' s also a software package called Octave \\nthat you can download for free off the Internet. And it has somewhat fewer features than \\nMATLAB, but it\\'s free, and for the purposes of this class, it will work for just about \\neverything.  \\nSo actually I, well, so yeah, just a side comment for those of you that haven\\'t seen \\nMATLAB before I guess, once a colleague of mine at a different university, not at \\nStanford, actually teaches another machine learning course. He\\'s taught it for many years. \\nSo one day, he was in his office, and an old student of his from, like, ten years ago came \\ninto his office and he said, \"Oh, professor, professor, thank you so much for your')"
      ]
     },
     "execution_count": 119,
     "metadata": {},
     "output_type": "execute_result"
    }
   ],
   "source": [
    "question = \"what did they say about the matlab\"\n",
    "docs = vectordb.similarity_search(question, k=5)\n",
    "docs[0]"
   ]
  },
  {
   "cell_type": "markdown",
   "id": "692a2234-e443-4caf-a875-95ea9df176ed",
   "metadata": {},
   "source": [
    "### Failure Cases - Semantic Lookup ignoring Metadata"
   ]
  },
  {
   "cell_type": "code",
   "execution_count": 120,
   "id": "12f6cce0-96f9-41b3-af79-4fd8dee6ad7c",
   "metadata": {},
   "outputs": [
    {
     "name": "stdout",
     "output_type": "stream",
     "text": [
      "{'title': '', 'page_label': '1', 'page': 0, 'author': '', 'producer': 'Acrobat Distiller 8.1.0 (Windows)', 'creationdate': '2008-07-11T11:25:03-07:00', 'source': 'MachineLearning-Lecture03.pdf', 'moddate': '2008-07-11T11:25:03-07:00', 'creator': 'PScript5.dll Version 5.2.2', 'total_pages': 16}\n",
      "{'source': 'MachineLearning-Lecture03.pdf', 'page_label': '15', 'moddate': '2008-07-11T11:25:03-07:00', 'creator': 'PScript5.dll Version 5.2.2', 'producer': 'Acrobat Distiller 8.1.0 (Windows)', 'title': '', 'total_pages': 16, 'creationdate': '2008-07-11T11:25:03-07:00', 'page': 14, 'author': ''}\n",
      "{'creationdate': '2008-07-11T11:25:03-07:00', 'moddate': '2008-07-11T11:25:03-07:00', 'page_label': '7', 'author': '', 'creator': 'PScript5.dll Version 5.2.2', 'source': 'MachineLearning-Lecture03.pdf', 'page': 6, 'title': '', 'total_pages': 16, 'producer': 'Acrobat Distiller 8.1.0 (Windows)'}\n",
      "{'source': 'MachineLearning-Lecture03.pdf', 'author': '', 'page': 2, 'producer': 'Acrobat Distiller 8.1.0 (Windows)', 'total_pages': 16, 'creationdate': '2008-07-11T11:25:03-07:00', 'moddate': '2008-07-11T11:25:03-07:00', 'title': '', 'page_label': '3', 'creator': 'PScript5.dll Version 5.2.2'}\n",
      "{'page': 0, 'moddate': '2008-07-11T11:25:05-07:00', 'title': '', 'author': '', 'source': 'MachineLearning-Lecture02.pdf', 'creator': 'PScript5.dll Version 5.2.2', 'total_pages': 18, 'page_label': '1', 'producer': 'Acrobat Distiller 8.1.0 (Windows)', 'creationdate': '2008-07-11T11:25:05-07:00'}\n"
     ]
    }
   ],
   "source": [
    "question = \"what did they say about regression in the third lecture\"\n",
    "docs = vectordb.similarity_search(question, k=5)\n",
    "for doc in docs:\n",
    "    print(doc.metadata)"
   ]
  },
  {
   "cell_type": "markdown",
   "id": "b5622377-0e35-4542-a87f-c6cbd85a2b77",
   "metadata": {},
   "source": [
    "## 4) Retrieval\n",
    "Fetching the most relevant pieces of external information (chunks of documents, knowledge base, etc.) to provide extra context to the LLM before it generates an answer.\n",
    "\n",
    "#### Types of Retrieval\n"
   ]
  },
  {
   "cell_type": "markdown",
   "id": "4c17bf5c-736b-497b-9060-c596b3c0d7d4",
   "metadata": {},
   "source": [
    "| Attribute            | Vector Similarity                          | BM25 / Keyword                  | Hybrid Search                     | Re-ranking                          | Structured Retrieval                  |\n",
    "|----------------------|-------------------------------------------|---------------------------------|----------------------------------|------------------------------------|--------------------------------------|\n",
    "| How It Works          | Embed query & docs, find nearest vectors | TF-IDF based keyword match       | Combines vector + keyword search  | Retrieve many, rerank with model   | Query structured DB or API            |\n",
    "| Strengths             | Captures semantic meaning                 | Exact keyword matching           | Balances semantic & lexical      | High precision ranking             | Accurate for structured facts         |\n",
    "| Weaknesses            | Misses exact keywords                     | Fails on semantic similarity     | More complex infra               | Expensive at scale                  | Needs schema alignment                |\n",
    "| When to Use           | General semantic search                   | Legal, technical, IDs           | Production-grade RAG             | Customer-facing apps, high accuracy | Enterprise + DB + knowledge graph    |"
   ]
  },
  {
   "cell_type": "markdown",
   "id": "81d89345-3124-4281-bb9d-9d0186ca440d",
   "metadata": {},
   "source": [
    "#### Maximum Marginal Relevance (MMR)\n",
    "- You may not always want to choose the most similar responses\n",
    "- Could give a very narrow view of the topic\n",
    "- Eg:\n",
    "1. **Wikipedia / Photosynthesis**  \n",
    "   - **Without MMR**: Top-k retrieves 3 paragraphs all about the light reaction.  \n",
    "   - **With MMR**: You get **light reaction + Calvin cycle + chloroplast structure** — comprehensive and non-repetitive.  \n",
    "\n",
    "2. **News Articles / Election Results**  \n",
    "   - **Without MMR**: Top-k might select 3 snippets all repeating **who won**.  \n",
    "   - **With MMR**: You get **winner + voter turnout + reactions from parties and citizens** — broader context.  \n",
    "\n",
    "3. **Product Reviews / Smartphone Pros**  \n",
    "   - **Without MMR**: Top-k selects 3 reviews all saying **camera is good**.  \n",
    "   - **With MMR**: You get **camera + battery + display quality** — highlights diverse advantages. "
   ]
  },
  {
   "cell_type": "code",
   "execution_count": 121,
   "id": "8c3cae18-1649-4d5d-8af4-ade6f0ec7947",
   "metadata": {},
   "outputs": [
    {
     "data": {
      "text/plain": [
       "'those homeworks will be done in either MATLAB or in Octave, which is sort of — I \\nknow some people c'"
      ]
     },
     "execution_count": 121,
     "metadata": {},
     "output_type": "execute_result"
    }
   ],
   "source": [
    "question = \"what did they say about matlab?\"\n",
    "docs_ss = vectordb.similarity_search(question,k=3)\n",
    "docs_ss[0].page_content[:100]"
   ]
  },
  {
   "cell_type": "code",
   "execution_count": 122,
   "id": "12f91037-e0d3-492e-9b26-a6619357a8eb",
   "metadata": {},
   "outputs": [
    {
     "data": {
      "text/plain": [
       "'those homeworks will be done in either MATLAB or in Octave, which is sort of — I \\nknow some people c'"
      ]
     },
     "execution_count": 122,
     "metadata": {},
     "output_type": "execute_result"
    }
   ],
   "source": [
    "docs_ss[1].page_content[:100]"
   ]
  },
  {
   "cell_type": "code",
   "execution_count": 123,
   "id": "793285aa-36d7-45e8-8e03-5358a21268e6",
   "metadata": {},
   "outputs": [
    {
     "data": {
      "text/plain": [
       "'those homeworks will be done in either MATLAB or in Octave, which is sort of — I \\nknow some people c'"
      ]
     },
     "execution_count": 123,
     "metadata": {},
     "output_type": "execute_result"
    }
   ],
   "source": [
    "docs_mmr = vectordb.max_marginal_relevance_search(question,k=3)\n",
    "docs_mmr[0].page_content[:100]"
   ]
  },
  {
   "cell_type": "code",
   "execution_count": 124,
   "id": "3ed38734-88ee-4bc7-b47c-2368d543e801",
   "metadata": {},
   "outputs": [
    {
     "data": {
      "text/plain": [
       "'least squares regression being a bad idea for classification problems and then I did a \\nbunch of mat'"
      ]
     },
     "execution_count": 124,
     "metadata": {},
     "output_type": "execute_result"
    }
   ],
   "source": [
    "docs_mmr[1].page_content[:100]"
   ]
  },
  {
   "cell_type": "markdown",
   "id": "9594d80d-fb48-4e4c-a9d5-31d9a1b7bb2b",
   "metadata": {},
   "source": [
    "#### Metadata Based Search\n",
    "Augumenting similarity search with exact metadata wherever possible\n",
    "Eg: Search for regression in 3rd lecture transcript which is MachineLearning-Lecture03.pdf (metadata filer Source: MachineLearning-Lecture03.pdf)"
   ]
  },
  {
   "cell_type": "code",
   "execution_count": 126,
   "id": "587cf2c3-e882-4f62-bdcb-80cc6a4fba74",
   "metadata": {},
   "outputs": [],
   "source": [
    "question = \"what did they say about regression in the third lecture?\"\n",
    "\n",
    "docs = vectordb.similarity_search(\n",
    "    question,\n",
    "    k=3,\n",
    "    filter={\"source\":\"MachineLearning-Lecture03.pdf\"}\n",
    ")"
   ]
  },
  {
   "cell_type": "code",
   "execution_count": 127,
   "id": "ca8384e8-1b6e-4ae2-8eab-ddf8cd9b7d1f",
   "metadata": {},
   "outputs": [
    {
     "name": "stdout",
     "output_type": "stream",
     "text": [
      "{'author': '', 'source': 'MachineLearning-Lecture03.pdf', 'page': 0, 'page_label': '1', 'title': '', 'creationdate': '2008-07-11T11:25:03-07:00', 'moddate': '2008-07-11T11:25:03-07:00', 'total_pages': 16, 'creator': 'PScript5.dll Version 5.2.2', 'producer': 'Acrobat Distiller 8.1.0 (Windows)'}\n",
      "{'author': '', 'moddate': '2008-07-11T11:25:03-07:00', 'source': 'MachineLearning-Lecture03.pdf', 'page': 14, 'creationdate': '2008-07-11T11:25:03-07:00', 'page_label': '15', 'title': '', 'total_pages': 16, 'creator': 'PScript5.dll Version 5.2.2', 'producer': 'Acrobat Distiller 8.1.0 (Windows)'}\n",
      "{'producer': 'Acrobat Distiller 8.1.0 (Windows)', 'author': '', 'total_pages': 16, 'title': '', 'moddate': '2008-07-11T11:25:03-07:00', 'creationdate': '2008-07-11T11:25:03-07:00', 'page': 6, 'page_label': '7', 'source': 'MachineLearning-Lecture03.pdf', 'creator': 'PScript5.dll Version 5.2.2'}\n"
     ]
    }
   ],
   "source": [
    "for d in docs:\n",
    "    print(d.metadata)"
   ]
  },
  {
   "cell_type": "markdown",
   "id": "851a35ce-3a5f-429e-be9c-dd2ed5941faa",
   "metadata": {},
   "source": [
    "#### Metadata Self Query Retriever\n",
    "\n",
    "SelfQueryRetriever uses an LLM to dynamically translate your natural language question into both semantic + metadata queries so that your vector DB returns the most relevant and context-aware chunks.\n",
    "\n",
    "##### What it does internally:\n",
    "- Determines semantic intent\n",
    "- Determines metadata filters if applicable\n",
    "- Sends the query to vector DB with filters\n",
    "\n",
    "##### Why this is powerful\n",
    "- You don’t need to manually write filters or craft queries.\n",
    "- The LLM automatically “understands” the schema and selects relevant docs.\n",
    "- Works well for RAG pipelines, especially with metadata-rich corpora (like CS229 transcripts with topics, lecture numbers, etc.)."
   ]
  },
  {
   "cell_type": "code",
   "execution_count": 134,
   "id": "9b73cf61-5ec0-42dc-9341-2b1be4e3c010",
   "metadata": {},
   "outputs": [],
   "source": [
    "from langchain_openai import OpenAI\n",
    "from langchain.retrievers.self_query.base import SelfQueryRetriever\n",
    "from langchain.chains.query_constructor.base import AttributeInfo"
   ]
  },
  {
   "cell_type": "code",
   "execution_count": 135,
   "id": "727fffd2-ed57-4047-b887-cdd07eafbb97",
   "metadata": {},
   "outputs": [],
   "source": [
    "metadata_field_info = [\n",
    "    AttributeInfo(\n",
    "        name=\"source\",\n",
    "        description=\"The lecture the chunk is from, should be one of `MachineLearning-Lecture01.pdf`, `MachineLearning-Lecture02.pdf`, or `MachineLearning-Lecture03.pdf`\",\n",
    "        type=\"string\",\n",
    "    ),\n",
    "    AttributeInfo(\n",
    "        name=\"page\",\n",
    "        description=\"The page from the lecture\",\n",
    "        type=\"integer\",\n",
    "    ),\n",
    "]"
   ]
  },
  {
   "cell_type": "code",
   "execution_count": 136,
   "id": "78ae6d0a-7365-4f90-ba7d-3718da5e107a",
   "metadata": {},
   "outputs": [],
   "source": [
    "document_content_description = \"Lecture notes\"\n",
    "llm = OpenAI(model='gpt-3.5-turbo-instruct', temperature=0)\n",
    "retriever = SelfQueryRetriever.from_llm(\n",
    "    llm,\n",
    "    vectordb,\n",
    "    document_content_description,\n",
    "    metadata_field_info,\n",
    "    verbose=True\n",
    ")"
   ]
  },
  {
   "cell_type": "code",
   "execution_count": 137,
   "id": "1a0eb394-14be-4d3a-be8c-ea985b869b35",
   "metadata": {},
   "outputs": [],
   "source": [
    "question = \"what did they say about regression in the third lecture?\""
   ]
  },
  {
   "cell_type": "code",
   "execution_count": 139,
   "id": "e2874953-6298-4ef7-905c-b50df73d44a2",
   "metadata": {},
   "outputs": [],
   "source": [
    "docs = retriever.invoke(question)"
   ]
  },
  {
   "cell_type": "code",
   "execution_count": 140,
   "id": "da4414ed-5b84-421d-ba8e-b6bb83fe2136",
   "metadata": {},
   "outputs": [
    {
     "name": "stdout",
     "output_type": "stream",
     "text": [
      "{'title': '', 'moddate': '2008-07-11T11:25:03-07:00', 'page_label': '3', 'creator': 'PScript5.dll Version 5.2.2', 'creationdate': '2008-07-11T11:25:03-07:00', 'producer': 'Acrobat Distiller 8.1.0 (Windows)', 'source': 'MachineLearning-Lecture03.pdf', 'author': '', 'total_pages': 16, 'page': 2}\n",
      "{'author': '', 'producer': 'Acrobat Distiller 8.1.0 (Windows)', 'total_pages': 16, 'creator': 'PScript5.dll Version 5.2.2', 'source': 'MachineLearning-Lecture03.pdf', 'title': '', 'moddate': '2008-07-11T11:25:03-07:00', 'page_label': '11', 'page': 10, 'creationdate': '2008-07-11T11:25:03-07:00'}\n",
      "{'total_pages': 16, 'page': 11, 'author': '', 'creationdate': '2008-07-11T11:25:03-07:00', 'producer': 'Acrobat Distiller 8.1.0 (Windows)', 'source': 'MachineLearning-Lecture03.pdf', 'page_label': '12', 'moddate': '2008-07-11T11:25:03-07:00', 'creator': 'PScript5.dll Version 5.2.2', 'title': ''}\n",
      "{'source': 'MachineLearning-Lecture03.pdf', 'total_pages': 16, 'title': '', 'creationdate': '2008-07-11T11:25:03-07:00', 'creator': 'PScript5.dll Version 5.2.2', 'author': '', 'producer': 'Acrobat Distiller 8.1.0 (Windows)', 'moddate': '2008-07-11T11:25:03-07:00', 'page': 6, 'page_label': '7'}\n"
     ]
    }
   ],
   "source": [
    "for d in docs:\n",
    "    print(d.metadata)"
   ]
  },
  {
   "cell_type": "code",
   "execution_count": null,
   "id": "aa623410-f863-44d0-bbcd-6d28ce5ca1e5",
   "metadata": {},
   "outputs": [],
   "source": []
  }
 ],
 "metadata": {
  "kernelspec": {
   "display_name": "Python 3 (ipykernel)",
   "language": "python",
   "name": "python3"
  },
  "language_info": {
   "codemirror_mode": {
    "name": "ipython",
    "version": 3
   },
   "file_extension": ".py",
   "mimetype": "text/x-python",
   "name": "python",
   "nbconvert_exporter": "python",
   "pygments_lexer": "ipython3",
   "version": "3.13.5"
  }
 },
 "nbformat": 4,
 "nbformat_minor": 5
}
